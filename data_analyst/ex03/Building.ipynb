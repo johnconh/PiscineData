{
 "cells": [
  {
   "cell_type": "code",
   "execution_count": 1,
   "id": "bbe9dab7",
   "metadata": {},
   "outputs": [],
   "source": [
    "from sqlalchemy import create_engine\n",
    "import os\n",
    "import pandas as pd\n",
    "import matplotlib.pyplot as plt\n",
    "import seaborn as sns\n",
    "import numpy as np\n",
    "from collections import defaultdict\n",
    "from dotenv import load_dotenv"
   ]
  },
  {
   "cell_type": "code",
   "execution_count": 2,
   "id": "783e0f22",
   "metadata": {},
   "outputs": [],
   "source": [
    "load_dotenv()"
   ]
  },
  {
   "cell_type": "code",
   "execution_count": 4,
   "id": "3364973a",
   "metadata": {},
   "outputs": [],
   "source": [
    "DB_PARAMS = {\n",
    "    \"dbname\": os.getenv(\"POSTGRES_DB\"),\n",
    "    \"user\": os.getenv(\"POSTGRES_USER\"),\n",
    "    \"password\": os.getenv(\"POSTGRES_PASSWORD\"), \n",
    "    \"host\": \"postgres\",\n",
    "    \"port\":  5432\n",
    "}"
   ]
  },
  {
   "cell_type": "code",
   "execution_count": 83,
   "id": "8eda0198",
   "metadata": {},
   "outputs": [],
   "source": [
    "try:\n",
    "    db_url = f\"postgresql+psycopg2://{DB_PARAMS['user']}:{DB_PARAMS['password']}@{DB_PARAMS['host']}/{DB_PARAMS['dbname']}\"\n",
    "    engine = create_engine(db_url)\n",
    "\n",
    "    query = \"\"\"\n",
    "        SELECT \n",
    "            user_id,\n",
    "            COUNT(*) AS purchase_count,\n",
    "            SUM(price::numeric) AS total_spending\n",
    "        FROM customers\n",
    "        WHERE event_type = 'purchase'\n",
    "        GROUP BY user_id\n",
    "        HAVING SUM(price::numeric) < 225\n",
    "           AND COUNT(*) <= 40;\n",
    "    \"\"\"\n",
    "    df = pd.read_sql(query, engine)\n",
    "\n",
    "except Exception as e:\n",
    "    print(f\"❌ An error occurred: {e}\")"
   ]
  },
  {
   "cell_type": "code",
   "execution_count": 105,
   "id": "77154b74",
   "metadata": {},
   "outputs": [],
   "source": [
    "frequency = df['purchase_count']\n",
    "monetary = df['total_spending'] "
   ]
  },
  {
   "cell_type": "code",
   "execution_count": null,
   "id": "c35ba61e",
   "metadata": {},
   "outputs": [],
   "source": [
    "sns.set_style(\"whitegrid\")\n",
    "fig, axes = plt.subplots(1, 2, figsize=(15, 6))\n",
    "\n",
    "axes[0].set_facecolor('lightgrey')\n",
    "axes[1].set_facecolor('lightgrey')\n",
    "\n",
    "sns.histplot(frequency, bins=5, kde=False, color='lightblue', ax=axes[0]) \n",
    "axes[0].set_ylabel('customers')\n",
    "axes[0].set_xlabel('frequency')\n",
    "axes[0].set_xticks(range(0, 39, 10))\n",
    "\n",
    "axes[1].hist(monetary, bins=5)\n",
    "axes[1].set_ylabel('customers')\n",
    "axes[1].set_xlabel('Monetary value in Altairian Dollars')"
   ]
  }
 ],
 "metadata": {
  "kernelspec": {
   "display_name": "Python 3 (ipykernel)",
   "language": "python",
   "name": "python3"
  }
 },
 "nbformat": 4,
 "nbformat_minor": 5
}
