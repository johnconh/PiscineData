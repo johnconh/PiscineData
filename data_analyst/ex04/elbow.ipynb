{
 "cells": [
  {
   "cell_type": "code",
   "execution_count": 16,
   "id": "b5d9d7e4",
   "metadata": {},
   "outputs": [],
   "source": [
    "from sqlalchemy import create_engine\n",
    "import pandas as pd\n",
    "import os\n",
    "import numpy as np\n",
    "import matplotlib.pyplot as plt\n",
    "import seaborn as sns\n",
    "from sklearn.cluster import KMeans\n",
    "from sklearn.preprocessing import StandardScaler\n",
    "from sklearn.decomposition import PCA\n",
    "from dotenv import load_dotenv"
   ]
  },
  {
   "cell_type": "code",
   "execution_count": 3,
   "id": "4104b3b4",
   "metadata": {},
   "outputs": [],
   "source": [
    "load_dotenv()"
   ]
  },
  {
   "cell_type": "code",
   "execution_count": 4,
   "id": "c0dee52f",
   "metadata": {},
   "outputs": [],
   "source": [
    "DB_PARAMS = {\n",
    "    \"dbname\": os.getenv(\"POSTGRES_DB\"),\n",
    "    \"user\": os.getenv(\"POSTGRES_USER\"),\n",
    "    \"password\": os.getenv(\"POSTGRES_PASSWORD\"), \n",
    "    \"host\": \"postgres\",\n",
    "    \"port\":  5432\n",
    "}"
   ]
  },
  {
   "cell_type": "code",
   "execution_count": 13,
   "id": "3f2a21a5",
   "metadata": {},
   "outputs": [],
   "source": [
    "try:\n",
    "    db_url = f\"postgresql+psycopg2://{DB_PARAMS['user']}:{DB_PARAMS['password']}@{DB_PARAMS['host']}/{DB_PARAMS['dbname']}\"\n",
    "    engine = create_engine(db_url)\n",
    "\n",
    "    query = \"\"\"\n",
    "        SELECT user_id, COUNT(*) AS purchases\n",
    "        FROM customers\n",
    "        WHERE event_type = 'purchase'\n",
    "        GROUP BY user_id\n",
    "    \"\"\"\n",
    "    df = pd.read_sql(query, engine)\n",
    "\n",
    "except Exception as e:\n",
    "    print(f\"❌ An error occurred: {e}\")"
   ]
  },
  {
   "cell_type": "code",
   "execution_count": 14,
   "id": "52b1dfb9",
   "metadata": {},
   "outputs": [],
   "source": [
    "X = df[['purchases']].values\n",
    "scaler = StandardScaler()\n",
    "X_scaled = scaler.fit_transform(X)\n",
    "wcss = []\n",
    "max_clusters = 10\n",
    "for i in range(1, max_clusters + 1):\n",
    "    kmeans = KMeans(n_clusters=i, random_state=42)\n",
    "    kmeans.fit(X_scaled)\n",
    "    wcss.append(kmeans.inertia_)"
   ]
  },
  {
   "cell_type": "markdown",
   "id": "9d4d5b79",
   "metadata": {},
   "source": [
    "### 1. **Preparación de los datos**\n",
    "```python\n",
    "X = df[['purchases']].values\n",
    "```\n",
    "- Extrae la columna `purchases` del DataFrame `df` y la convierte en un array NumPy (`.values`).\n",
    "- `X` contiene los datos que se usarán para el clustering.\n",
    "\n",
    "```python\n",
    "scaler = StandardScaler()\n",
    "X_scaled = scaler.fit_transform(X)\n",
    "```\n",
    "- **`StandardScaler`**: Escala los datos para que tengan media 0 y desviación estándar 1. Esto es importante para que las características tengan la misma escala y no influyan desproporcionadamente en el clustering.\n",
    "- `X_scaled` contiene los datos escalados.\n",
    "\n",
    "---\n",
    "\n",
    "### 2. **Inicialización del método del codo**\n",
    "```python\n",
    "wcss = []\n",
    "max_clusters = 10\n",
    "```\n",
    "- **`wcss`**: Lista para almacenar la suma de las distancias cuadradas dentro de los clusters (**Within-Cluster Sum of Squares**, WCSS) para cada número de clusters.\n",
    "- **`max_clusters`**: Define el número máximo de clusters que se evaluarán (en este caso, de 1 a 10).\n",
    "\n",
    "---\n",
    "\n",
    "### 3. **Cálculo del WCSS para diferentes números de clusters**\n",
    "```python\n",
    "for i in range(1, max_clusters + 1):\n",
    "    kmeans = KMeans(n_clusters=i, random_state=42)\n",
    "    kmeans.fit(X_scaled)\n",
    "    wcss.append(kmeans.inertia_)\n",
    "```\n",
    "- **Bucle `for`**:\n",
    "  - Itera sobre diferentes números de clusters (`n_clusters`) desde 1 hasta `max_clusters`.\n",
    "- **`KMeans`**:\n",
    "  - Crea un modelo de K-Means con `i` clusters.\n",
    "  - `random_state=42` asegura que los resultados sean reproducibles.\n",
    "- **`kmeans.fit(X_scaled)`**:\n",
    "  - Ajusta el modelo a los datos escalados.\n",
    "- **`kmeans.inertia_`**:\n",
    "  - Calcula el WCSS, que mide la suma de las distancias cuadradas entre cada punto y el centroide de su cluster.\n",
    "  - Este valor se agrega a la lista `wcss`.\n",
    "\n",
    "---\n",
    "\n",
    "### 4. **Resultado**\n",
    "- Al final del bucle, `wcss` contiene los valores del WCSS para cada número de clusters de 1 a `max_clusters`.\n",
    "- Estos valores se pueden graficar para identificar el \"codo\" en la curva, que indica el número óptimo de clusters. El \"codo\" es el punto donde la disminución del WCSS se vuelve menos pronunciada.\n",
    "\n",
    "Este método ayuda a decidir el número de clusters que mejor agrupa los datos sin sobreajustar."
   ]
  },
  {
   "cell_type": "code",
   "execution_count": 17,
   "id": "bd5ea3c0",
   "metadata": {},
   "outputs": [],
   "source": [
    "sns.set_style(\"darkgrid\", rc={\"axes.facecolor\": \"#f0f0f0\", \"grid.color\": \"white\"})\n",
    "plt.figure(figsize=(10, 6))\n",
    "plt.plot(range(1, max_clusters + 1), wcss, linestyle='-', color='darkblue')\n",
    "plt.title('The Elbow Method', fontsize=16)\n",
    "plt.xlabel('Number of clusters', fontsize=14)\n",
    "plt.grid(True)\n",
    "plt.tight_layout()\n",
    "plt.show()"
   ]
  }
 ],
 "metadata": {
  "kernelspec": {
   "display_name": "Python 3 (ipykernel)",
   "language": "python",
   "name": "python3"
  }
 },
 "nbformat": 4,
 "nbformat_minor": 5
}
