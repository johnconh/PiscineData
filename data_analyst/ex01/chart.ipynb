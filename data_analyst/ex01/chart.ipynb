{
 "cells": [
  {
   "cell_type": "code",
   "execution_count": null,
   "id": "2966d072",
   "metadata": {},
   "outputs": [],
   "source": [
    "import psycopg2\n",
    "import os\n",
    "import pandas as pd\n",
    "import matplotlib.pyplot as plt\n",
    "import seaborn as sns\n",
    "import numpy as np\n",
    "from collections import defaultdict\n",
    "from dotenv import load_dotenv"
   ]
  },
  {
   "cell_type": "code",
   "execution_count": null,
   "id": "324ab9e1",
   "metadata": {},
   "outputs": [],
   "source": [
    "load_dotenv()"
   ]
  },
  {
   "cell_type": "code",
   "execution_count": null,
   "id": "604099c7",
   "metadata": {},
   "outputs": [],
   "source": [
    "DB_PARAMS = {\n",
    "    \"dbname\": os.getenv(\"POSTGRES_DB\"),\n",
    "    \"user\": os.getenv(\"POSTGRES_USER\"),\n",
    "    \"password\": os.getenv(\"POSTGRES_PASSWORD\"), \n",
    "    \"host\": \"postgres\",\n",
    "    \"port\":  5432\n",
    "}"
   ]
  },
  {
   "cell_type": "code",
   "execution_count": null,
   "id": "af42abf6",
   "metadata": {},
   "outputs": [],
   "source": [
    "try:\n",
    "    conn = psycopg2.connect(**DB_PARAMS)\n",
    "    cursor = conn.cursor()\n",
    "    cursor.execute(\"\"\" \n",
    "        SELECT event_time, \n",
    "            CAST(REPLACE(REPLACE(price::text, '$', ''), ',', '') AS FLOAT) as price,\n",
    "            category_code, brand, user_id\n",
    "        FROM customers\n",
    "        WHERE event_type = 'purchase'\n",
    "        AND event_time BETWEEN '2022-10-01' AND '2023-02-28 23:59:59'\n",
    "        ORDER BY event_time\n",
    "    \"\"\")\n",
    "    rows = cursor.fetchall()\n",
    "    data = pd.DataFrame(rows, columns=['event_time', 'price', 'category_code', 'brand', 'user_id'])\n",
    "\n",
    "    cursor.close()\n",
    "    conn.close()\n",
    "except Exception as e:\n",
    "    print(f\"❌ An error occurred: {e}\")"
   ]
  },
  {
   "cell_type": "code",
   "execution_count": null,
   "id": "990a51f0",
   "metadata": {},
   "outputs": [],
   "source": [
    "sns.set_style(\"whitegrid\")\n",
    "plt.rcParams.update({'font.size': 12})"
   ]
  },
  {
   "cell_type": "code",
   "execution_count": null,
   "id": "00e27fa6",
   "metadata": {},
   "outputs": [],
   "source": [
    "if not pd.api.types.is_datetime64_any_dtype(data['event_time']):\n",
    "    data['event_time'] = pd.to_datetime(data['event_time'])"
   ]
  },
  {
   "cell_type": "code",
   "execution_count": null,
   "id": "9cd34c1b",
   "metadata": {
    "lines_to_next_cell": 2
   },
   "outputs": [],
   "source": [
    "data['date'] = data['event_time'].dt.date\n",
    "data['month'] = data['event_time'].dt.to_period('M')\n",
    "data['month_str'] = data['month'].dt.strftime('%b')"
   ]
  },
  {
   "cell_type": "code",
   "execution_count": null,
   "id": "ee08edbe",
   "metadata": {},
   "outputs": [],
   "source": [
    "daily_customers = data.groupby('date').size().reset_index(name='count')\n",
    "plt.figure(figsize=(12, 6))\n",
    "plt.plot(daily_customers['date'], daily_customers['count'], color='blue', linewidth=2)\n",
    "plt.xlabel('Date')\n",
    "plt.ylabel('Number of Customers')\n",
    "locator = plt.matplotlib.dates.MonthLocator()\n",
    "format = plt.matplotlib.dates.DateFormatter('%b')\n",
    "plt.gca().xaxis.set_major_locator(locator)\n",
    "plt.gca().xaxis.set_major_formatter(format)\n",
    "plt.xlim(daily_customers['date'].min(), daily_customers['date'].max())\n",
    "plt.gca().set_facecolor('gray')\n",
    "plt.show()\n",
    "plt.close()"
   ]
  },
  {
   "cell_type": "code",
   "execution_count": null,
   "id": "0f6f6f4e",
   "metadata": {},
   "outputs": [],
   "source": [
    "monthly_sales = data.groupby('month')['price'].sum().reset_index()\n",
    "monthly_sales['sales_in_millions'] = monthly_sales['price'] / 1_000_000\n",
    "monthly_sales['month_str'] = monthly_sales['month'].dt.strftime('%b')\n",
    "plt.figure(figsize=(10, 6))\n",
    "ax = sns.barplot(x='month_str', y='sales_in_millions', data=monthly_sales, color='#B0C4DE')\n",
    "plt.xlabel('month')\n",
    "plt.ylabel('total sales in millions of altarian dollars')\n",
    "plt.show()\n",
    "plt.close()\n"
   ]
  },
  {
   "cell_type": "code",
   "execution_count": null,
   "id": "82db4462",
   "metadata": {},
   "outputs": [],
   "source": [
    "daily_data = data.groupby('date').agg(\n",
    "    total_spend=('price', 'sum'),\n",
    "    total_customers=('user_id', 'nunique') \n",
    ").reset_index()\n",
    "daily_data['avg_spend_per_customer'] = daily_data['total_spend'] / daily_data['total_customers']\n",
    "plt.figure(figsize=(12, 6))\n",
    "plt.plot(daily_data['date'], daily_data['avg_spend_per_customer'], color='#6495ED', linewidth=2)\n",
    "plt.fill_between(daily_data['date'], daily_data['avg_spend_per_customer'], color='#B0C4DE', alpha=0.5)\n",
    "plt.xlabel('date')\n",
    "plt.ylabel('average spend/customer in altarian dollars')\n",
    "locator = plt.matplotlib.dates.MonthLocator()\n",
    "format = plt.matplotlib.dates.DateFormatter('%b')\n",
    "plt.gca().xaxis.set_major_locator(locator)\n",
    "plt.gca().xaxis.set_major_formatter(format)\n",
    "plt.xlim(daily_data['date'].min(), daily_data['date'].max())\n",
    "plt.ylim(bottom=0)\n",
    "plt.show()\n",
    "plt.close()"
   ]
  }
 ],
 "metadata": {
  "jupytext": {
   "cell_metadata_filter": "-all",
   "main_language": "python",
   "notebook_metadata_filter": "-all"
  },
  "kernelspec": {
   "display_name": "Python 3 (ipykernel)",
   "language": "python",
   "name": "python3"
  },
  "language_info": {
   "codemirror_mode": {
    "name": "ipython",
    "version": 3
   },
   "file_extension": ".py",
   "mimetype": "text/x-python",
   "name": "python",
   "nbconvert_exporter": "python",
   "pygments_lexer": "ipython3",
   "version": "3.10.17"
  }
 },
 "nbformat": 4,
 "nbformat_minor": 5
}
