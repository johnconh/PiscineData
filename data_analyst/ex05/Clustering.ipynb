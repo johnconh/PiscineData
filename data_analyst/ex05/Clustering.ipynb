{
 "cells": [
  {
   "cell_type": "code",
   "execution_count": 1,
   "id": "90bd88a7",
   "metadata": {},
   "outputs": [],
   "source": [
    "from sqlalchemy import create_engine\n",
    "import pandas as pd\n",
    "import os\n",
    "import numpy as np\n",
    "import matplotlib.pyplot as plt\n",
    "import seaborn as sns\n",
    "from sklearn.cluster import KMeans\n",
    "from sklearn.preprocessing import StandardScaler\n",
    "from sklearn.decomposition import PCA\n",
    "from dotenv import load_dotenv"
   ]
  },
  {
   "cell_type": "code",
   "execution_count": 2,
   "id": "7300f348",
   "metadata": {},
   "outputs": [
    {
     "data": {
      "text/plain": [
       "True"
      ]
     },
     "execution_count": 2,
     "metadata": {},
     "output_type": "execute_result"
    }
   ],
   "source": [
    "load_dotenv()"
   ]
  },
  {
   "cell_type": "code",
   "execution_count": 3,
   "id": "7f22baf2",
   "metadata": {},
   "outputs": [],
   "source": [
    "DB_PARAMS = {\n",
    "    \"dbname\": os.getenv(\"POSTGRES_DB\"),\n",
    "    \"user\": os.getenv(\"POSTGRES_USER\"),\n",
    "    \"password\": os.getenv(\"POSTGRES_PASSWORD\"), \n",
    "    \"host\": \"postgres\",\n",
    "    \"port\":  5432\n",
    "}"
   ]
  },
  {
   "cell_type": "code",
   "execution_count": 4,
   "id": "8d492c57",
   "metadata": {},
   "outputs": [],
   "source": [
    "try:\n",
    "    db_url = f\"postgresql+psycopg2://{DB_PARAMS['user']}:{DB_PARAMS['password']}@{DB_PARAMS['host']}/{DB_PARAMS['dbname']}\"\n",
    "    engine = create_engine(db_url)\n",
    "\n",
    "    query = \"\"\"\n",
    "        WITH customer_times AS (\n",
    "            SELECT\n",
    "                user_id,\n",
    "                MIN(event_time) AS first_purchase_time,\n",
    "                MAX(event_time) AS last_purchase_time\n",
    "            FROM customers\n",
    "            GROUP BY user_id\n",
    "        ),\n",
    "        classification AS (\n",
    "            SELECT\n",
    "                user_id,\n",
    "                first_purchase_time,\n",
    "                last_purchase_time,\n",
    "                CASE\n",
    "                    WHEN first_purchase_time > (SELECT MAX(last_purchase_time) FROM customer_times) - INTERVAL '30 days' THEN 'New customer'\n",
    "                    WHEN last_purchase_time <= (SELECT MAX(last_purchase_time) FROM customer_times) - INTERVAL '90 days' THEN 'Inactive customer'\n",
    "                    WHEN last_purchase_time > (SELECT MAX(last_purchase_time) FROM customer_times) - INTERVAL '30 days' THEN 'Platino'\n",
    "                    WHEN last_purchase_time > (SELECT MAX(last_purchase_time) FROM customer_times) - INTERVAL '60 days' THEN 'Oro'\n",
    "                    WHEN last_purchase_time > (SELECT MAX(last_purchase_time) FROM customer_times) - INTERVAL '90 days' THEN 'Plata'\n",
    "                    ELSE 'Bronce'\n",
    "                END AS status\n",
    "            FROM customer_times\n",
    "        ),\n",
    "        customer_status_counts AS (\n",
    "            SELECT \n",
    "                CASE\n",
    "                    WHEN status IN ('Platino', 'Oro', 'Plata') THEN 'Loyal customer'\n",
    "                    ELSE status\n",
    "                END AS status,\n",
    "                COUNT(*) AS total\n",
    "            FROM classification\n",
    "            GROUP BY status\n",
    "        )\n",
    "        SELECT * FROM customer_status_counts;\n",
    "    \"\"\"\n",
    "    df = pd.read_sql(query, engine)\n",
    "\n",
    "except Exception as e:\n",
    "    print(f\"❌ An error occurred: {e}\")"
   ]
  },
  {
   "cell_type": "code",
   "execution_count": 5,
   "id": "63f41d5c",
   "metadata": {},
   "outputs": [
    {
     "data": {
      "image/png": "[encoded data removed]",
      "text/plain": [
       "<Figure size 800x600 with 1 Axes>"
      ]
     },
     "metadata": {},
     "output_type": "display_data"
    }
   ],
   "source": [
    "df_grouped = df.groupby('status', as_index=False).sum()\n",
    "\n",
    "plt.figure(figsize=(8, 6))\n",
    "ax = sns.barplot(x='total', y='status', data=df_grouped, hue='status', dodge=False, palette=['green', 'red', 'blue'])\n",
    "ax.spines['top'].set_visible(False)\n",
    "ax.spines['right'].set_visible(False)\n",
    "ax.set_xlabel('numbers of customers')\n",
    "ax.set_ylabel('')\n",
    "plt.show()"
   ]
  },
  {
   "cell_type": "code",
   "execution_count": null,
   "id": "b71d2cb8",
   "metadata": {},
   "outputs": [],
   "source": [
    "data_for_clustering = np.array(df[['total']].values)\n",
    "\n",
    "scaler = StandardScaler()\n",
    "scaled_data = scaler.fit_transform(data_for_clustering)\n",
    "num_clusters = 5\n",
    "kmeans = KMeans(n_clusters=num_clusters, random_state=42, n_init=10)\n",
    "cluster_labels = kmeans.fit_predict(scaled_data)\n",
    "\n",
    "cluster_averages = []\n",
    "for i in range(num_clusters):\n",
    "    cluster_points = np.array([df['total'].iloc[j] for j in range(len(df)) if cluster_labels[j] == i])\n",
    "    cluster_averages.append(np.mean(cluster_points))\n",
    "\n",
    "sorted_indices = np.argsort(cluster_averages)\n",
    "\n",
    "plt.figure(figsize=(10, 6))\n",
    "group_names = {\n",
    "    0: \"gold\",\n",
    "    1: \"inactive\",\n",
    "    2: \"new customer\",\n",
    "    3: \"silver\",\n",
    "    4: \"platinum\"\n",
    "}\n",
    "\n",
    "for i, idx in enumerate(sorted_indices):\n",
    "    cluster_points = np.array([df['total'].iloc[j] for j in range(len(df)) if cluster_labels[j] == idx])\n",
    "    color = plt.cm.viridis(i / num_clusters)\n",
    "    plt.barh(i, np.mean(cluster_points), color=color, alpha=0.7)\n",
    "    plt.text(np.mean(cluster_points) + 0.8, i, f'{group_names[idx]}', ha='left', va='center', fontsize=10, color='black', weight='bold')\n",
    "\n",
    "plt.ylabel(\"\")\n",
    "plt.xlabel(\"Number of Customers (Average)\")\n",
    "plt.title(\"Distribution of Customers by Clusters\")\n",
    "plt.yticks(range(num_clusters), [f'Cluster {i+1}' for i in range(num_clusters)])\n",
    "plt.grid(True)\n",
    "plt.show()"
   ]
  }
 ],
 "metadata": {
  "kernelspec": {
   "display_name": "Python 3 (ipykernel)",
   "language": "python",
   "name": "python3"
  },
  "language_info": {
   "codemirror_mode": {
    "name": "ipython",
    "version": 3
   },
   "file_extension": ".py",
   "mimetype": "text/x-python",
   "name": "python",
   "nbconvert_exporter": "python",
   "pygments_lexer": "ipython3",
   "version": "3.10.17"
  }
 },
 "nbformat": 4,
 "nbformat_minor": 5
}
