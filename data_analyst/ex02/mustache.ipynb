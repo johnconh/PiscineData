{
 "cells": [
  {
   "cell_type": "code",
   "execution_count": null,
   "id": "6607f943",
   "metadata": {},
   "outputs": [],
   "source": [
    "from sqlalchemy import create_engine\n",
    "import os\n",
    "import pandas as pd\n",
    "import matplotlib.pyplot as plt\n",
    "import seaborn as sns\n",
    "import numpy as np\n",
    "from collections import defaultdict\n",
    "from dotenv import load_dotenv"
   ]
  },
  {
   "cell_type": "code",
   "execution_count": null,
   "id": "36f3f134",
   "metadata": {},
   "outputs": [],
   "source": [
    "load_dotenv()"
   ]
  },
  {
   "cell_type": "code",
   "execution_count": null,
   "id": "1e8e5ca6",
   "metadata": {},
   "outputs": [],
   "source": [
    "DB_PARAMS = {\n",
    "    \"dbname\": os.getenv(\"POSTGRES_DB\"),\n",
    "    \"user\": os.getenv(\"POSTGRES_USER\"),\n",
    "    \"password\": os.getenv(\"POSTGRES_PASSWORD\"), \n",
    "    \"host\": \"postgres\",\n",
    "    \"port\":  5432\n",
    "}"
   ]
  },
  {
   "cell_type": "code",
   "execution_count": null,
   "id": "e64715dc",
   "metadata": {},
   "outputs": [],
   "source": [
    "try:\n",
    "    db_url = f\"postgresql+psycopg2://{DB_PARAMS['user']}:{DB_PARAMS['password']}@{DB_PARAMS['host']}/{DB_PARAMS['dbname']}\"\n",
    "    engine = create_engine(db_url)\n",
    "\n",
    "    query = \"\"\"\n",
    "        SELECT\n",
    "            user_id,\n",
    "            price::numeric\n",
    "        FROM customers\n",
    "        WHERE event_type = 'purchase';\n",
    "    \"\"\"\n",
    "    df = pd.read_sql(query, engine)\n",
    "\n",
    "except Exception as e:\n",
    "    print(f\"❌ An error occurred: {e}\")"
   ]
  },
  {
   "cell_type": "code",
   "execution_count": null,
   "id": "49ce2c80",
   "metadata": {},
   "outputs": [],
   "source": [
    "pd.set_option('display.float_format', '{:.6f}'.format)\n",
    "print(df['price'].describe().to_string(index=True))"
   ]
  },
  {
   "cell_type": "code",
   "execution_count": null,
   "id": "39e531eb",
   "metadata": {},
   "outputs": [],
   "source": [
    "fig, (ax1, ax2) = plt.subplots(2, 1, figsize=(10, 8))\n",
    "\n",
    "ax1.set_facecolor('lightgrey')\n",
    "ax2.set_facecolor('lightgrey')\n",
    "\n",
    "sns.boxplot(x=df['price'], ax=ax1)\n",
    "ax1.set_xlabel(\"Precio\")\n",
    "ax1.set_yticks([])\n",
    "ax1.grid(True)\n",
    "\n",
    "boxprops = dict(facecolor='green', edgecolor='black')\n",
    "medianprops = dict(linestyle='-', linewidth=2, color='black')\n",
    "\n",
    "ax2.boxplot(df['price'], vert=False, widths=0.8, notch=True,\n",
    "            boxprops=boxprops, medianprops=medianprops, showfliers=False,\n",
    "            patch_artist=True)\n",
    "ax2.set_xlabel(\"price\")\n",
    "ax2.set_yticks([])\n",
    "ax2.grid(True)\n",
    "\n",
    "plt.tight_layout()\n",
    "plt.show()"
   ]
  },
  {
   "cell_type": "code",
   "execution_count": null,
   "id": "43e32b03",
   "metadata": {},
   "outputs": [],
   "source": [
    "basket_price_per_user = df.groupby('user_id')['price'].mean().reset_index()\n",
    "filtered_basket_price = basket_price_per_user[\n",
    "    (basket_price_per_user['price'] >= 28) & (basket_price_per_user['price'] <= 43)\n",
    "]\n",
    "\n",
    "plt.figure(figsize=(10, 6))\n",
    "sns.boxplot(x=filtered_basket_price['price'], color='lightblue', width=0.5)\n",
    "plt.xticks(np.arange(int(filtered_basket_price['price'].min()), int(filtered_basket_price['price'].max()) + 1, step=2))\n",
    "plt.tight_layout()\n",
    "plt.yticks([])\n",
    "plt.show()"
   ]
  }
 ],
 "metadata": {
  "kernelspec": {
   "display_name": "Python 3 (ipykernel)",
   "language": "python",
   "name": "python3"
  }
 },
 "nbformat": 4,
 "nbformat_minor": 5
}
